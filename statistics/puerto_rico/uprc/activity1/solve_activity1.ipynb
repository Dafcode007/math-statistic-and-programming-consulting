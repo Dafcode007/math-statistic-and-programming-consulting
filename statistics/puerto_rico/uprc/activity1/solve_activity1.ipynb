{
 "cells": [
  {
   "cell_type": "markdown",
   "id": "33a5cbb5-b73a-405c-b922-c02b8e638ca1",
   "metadata": {},
   "source": [
    "# TRABAJO PROGRAMACIÓN\n",
    "## SE SUGIERE ABRIR EL ARCHIVO EN GOOGLE COLAB O JUPYTER NOTEBOOK"
   ]
  },
  {
   "cell_type": "markdown",
   "id": "ca01712c-bb45-4d98-947d-8bfd67393cad",
   "metadata": {},
   "source": [
    "## Importar los modulos necesarios para manipular la data y graficar"
   ]
  },
  {
   "cell_type": "code",
   "execution_count": 4,
   "id": "4933197f-a719-4c7a-8273-76b1054f1e5a",
   "metadata": {},
   "outputs": [],
   "source": [
    "import pandas as pd\n",
    "import matplotlib.pyplot as plt"
   ]
  },
  {
   "cell_type": "markdown",
   "id": "db6cdb04-24a1-41d7-aaaa-a2428b63b70a",
   "metadata": {},
   "source": [
    "### a) Va a escoger unos datos (pueden se creados por usted mismo) en Excel el mínimo deben ser 10 filas y 10 columnas"
   ]
  },
  {
   "cell_type": "code",
   "execution_count": 6,
   "id": "da45c91f-cd55-4bf3-8f80-195e9c7712c3",
   "metadata": {},
   "outputs": [
    {
     "name": "stdout",
     "output_type": "stream",
     "text": [
      "   N° DE EMPLEADO               Nombre Apellido Paterno Apellido Materno  \\\n",
      "0           10015                OSCAR            ORTIZ            ROJAS   \n",
      "1           10129      MARIA DE CARMEN             ORTA           JUAREZ   \n",
      "2           10132                GRETA          MORALES            AVILA   \n",
      "3           10135                ANGEL           OSORIO             EUAN   \n",
      "4           10138                PABLO         CLEMENTE             VEGA   \n",
      "5           10141               JAVIER          MORALES            LOPEZ   \n",
      "6           10144  GUADALUPE DE LA PAZ           ANTUNA          MURILLO   \n",
      "7           10147              DOLORES          MORALES         MARTINEZ   \n",
      "8           10150        MARCO ANTONIO            GARZA            GARZA   \n",
      "9           10153          HUGO MANUEL           GARCIA          SALINAS   \n",
      "\n",
      "         Area        Teléfono                     NOMBRE COMPLETO  Unnamed: 7  \\\n",
      "0   COMERCIAL  01 222 2223209                   OSCAR ORTIZ ROJAS         NaN   \n",
      "1   COMERCIAL  01 222 2223119         MARIA DE CARMEN ORTA JUAREZ         NaN   \n",
      "2    GERENCIA  01 222 2223029                 GRETA MORALES AVILA         NaN   \n",
      "3  INGENIERIA  01 222 2222939                   ANGEL OSORIO EUAN         NaN   \n",
      "4  INGENIERIA  01 222 2222849                 PABLO CLEMENTE VEGA         NaN   \n",
      "5  INGENIERIA  01 222 2222759                JAVIER MORALES LOPEZ         NaN   \n",
      "6   COMERCIAL  01 222 2222669  GUADALUPE DE LA PAZ ANTUNA MURILLO         NaN   \n",
      "7   COMERCIAL  01 222 2222579            DOLORES MORALES MARTINEZ         NaN   \n",
      "8   COMERCIAL  01 222 2222489           MARCO ANTONIO GARZA GARZA         NaN   \n",
      "9  INGENIERIA  01 222 2222399          HUGO MANUEL GARCIA SALINAS         NaN   \n",
      "\n",
      "  Sexo  Edad  Salario  \n",
      "0    M    22      200  \n",
      "1    F    36      400  \n",
      "2    F    24      295  \n",
      "3    M    49      555  \n",
      "4    M    19      189  \n",
      "5    M    24      295  \n",
      "6    F    33      385  \n",
      "7    F    51      600  \n",
      "8    M    24      295  \n",
      "9    M    29      322  \n"
     ]
    }
   ],
   "source": [
    "data = pd.read_excel(\"db_employee.xlsx\")\n",
    "#Acontinuaciòn se muestran los datos DATAFRAME\n",
    "#se esta trabajando con una muestra de la base de datos de los empleados de una empresa, \n",
    "#la cual consta de 10 filas y 10 columnas en otras palabras 10 variables y 10 registros\n",
    "print(data)"
   ]
  },
  {
   "cell_type": "markdown",
   "id": "e67a5cfe-299a-451b-98f3-c547c22a8f01",
   "metadata": {},
   "source": [
    "## Liempiaza de datos"
   ]
  },
  {
   "cell_type": "code",
   "execution_count": 7,
   "id": "283101b4-9a23-40ce-a90e-814bed660f06",
   "metadata": {},
   "outputs": [
    {
     "name": "stdout",
     "output_type": "stream",
     "text": [
      "                Nombre        Area Sexo  Edad  Salario\n",
      "0                OSCAR   COMERCIAL    M    22      200\n",
      "1      MARIA DE CARMEN   COMERCIAL    F    36      400\n",
      "2                GRETA    GERENCIA    F    24      295\n",
      "3                ANGEL  INGENIERIA    M    49      555\n",
      "4                PABLO  INGENIERIA    M    19      189\n",
      "5               JAVIER  INGENIERIA    M    24      295\n",
      "6  GUADALUPE DE LA PAZ   COMERCIAL    F    33      385\n",
      "7              DOLORES   COMERCIAL    F    51      600\n",
      "8        MARCO ANTONIO   COMERCIAL    M    24      295\n",
      "9          HUGO MANUEL  INGENIERIA    M    29      322\n"
     ]
    }
   ],
   "source": [
    "#Nos concentraremos en nuestras variables de interes, para ello\n",
    "#Del total de datos de la bases de datos compuesta de 10 filas y 10 columnas\n",
    "#Vamos traer las columans Nombre, Area, Sexo, Edad y salario.\n",
    "sub_data = pd.read_excel(\"db_employee.xlsx\", usecols = [\"Nombre\", \"Area\", \"Sexo\", \"Edad\", \"Salario\"])\n",
    "print(sub_data)"
   ]
  },
  {
   "cell_type": "markdown",
   "id": "a459a0b2-6300-472a-8c0a-b5d2827a69d5",
   "metadata": {},
   "source": [
    "### b) Va a calcular la moda, mediana, rango, desviación estándar, varianza de cada una de las columnas\n"
   ]
  },
  {
   "cell_type": "code",
   "execution_count": 8,
   "id": "a7f1b6c4-134d-46df-85ad-de9ee754b308",
   "metadata": {},
   "outputs": [
    {
     "name": "stdout",
     "output_type": "stream",
     "text": [
      "La moda de cada columna con frecuencia de datos mayor a 0 es:\n",
      "Area: 0    COMERCIAL\n",
      "dtype: object\n",
      "Sexo: 0    M\n",
      "dtype: object\\Edad: 0    24\n",
      "dtype: int64\n",
      "Salario: 0    295\n",
      "dtype: int64\n"
     ]
    }
   ],
   "source": [
    "#Calculo de la moda para cada una de las columnas\n",
    "name = sub_data[\"Nombre\"]\n",
    "deparment = sub_data[\"Area\"]\n",
    "sex = sub_data[\"Sexo\"]\n",
    "age = sub_data[\"Edad\"]\n",
    "salary = sub_data[\"Salario\"]\n",
    "\n",
    "print(\"La moda de cada columna con frecuencia de datos mayor a 0 es:\")\n",
    "print(f\"Area: {deparment.mode()}\\nSexo: {sex.mode()}\\Edad: {age.mode()}\\nSalario: {salary.mode()}\")"
   ]
  },
  {
   "cell_type": "code",
   "execution_count": 9,
   "id": "27d110ea-5f35-4503-bb21-3c8ba0475653",
   "metadata": {},
   "outputs": [
    {
     "name": "stdout",
     "output_type": "stream",
     "text": [
      "*****MEDIANA*****\n",
      "Edad: 26.5\n",
      "Salario: 308.5\n",
      "\n",
      "*****RANGO*****\n",
      "Edad: 32\n",
      "Salario: 411\n",
      "\n",
      "*****DESVIACIÓN ESTÁNDAR*****\n",
      "Edad: 11.2\n",
      "Salario: 135.97\n",
      "\n",
      "*****VARIANZA*****\n",
      "Edad: 125.43\n",
      "Salario: 18488.93\n"
     ]
    }
   ],
   "source": [
    "#calculo de la mediana, rango, desviacion estándar y varianza de cada una de las variables cuantitativas de interes\n",
    "#Mediana\n",
    "print(f\"*****MEDIANA*****\\nEdad: {round((age.median()), 2)}\\nSalario: {round(salary.median(), 2)}\")\n",
    "#Rango\n",
    "print(f\"\\n*****RANGO*****\\nEdad: {age.max()-age.min()}\\nSalario: {salary.max()-salary.min()}\")\n",
    "#Desviación estandar\n",
    "print(f\"\\n*****DESVIACIÓN ESTÁNDAR*****\\nEdad: {round((age.std()), 2)}\\nSalario: {round(salary.std(), 2)}\")\n",
    "#varianza\n",
    "print(f\"\\n*****VARIANZA*****\\nEdad: {round((age.var()), 2)}\\nSalario: {round(salary.var(), 2)}\")"
   ]
  },
  {
   "cell_type": "markdown",
   "id": "2f1ffa25-1d48-4d22-ba5d-ab30c1e1cb25",
   "metadata": {},
   "source": [
    "### c) Va a preparar una gráfica lineal, un scatterplot y un box plot para 2 de estas columnas. Cree un subplot para 3 de estas columnas."
   ]
  },
  {
   "cell_type": "code",
   "execution_count": 11,
   "id": "a33bed8d-93c6-4da2-925a-3f42a446e0b7",
   "metadata": {},
   "outputs": [
    {
     "name": "stdout",
     "output_type": "stream",
     "text": [
      "AxesSubplot(0.125,0.125;0.775x0.755)\n",
      "AxesSubplot(0.125,0.125;0.775x0.755)\n"
     ]
    },
    {
     "data": {
      "image/png": "[encoded data removed]",
      "text/plain": [
       "<Figure size 432x288 with 1 Axes>"
      ]
     },
     "metadata": {
      "needs_background": "light"
     },
     "output_type": "display_data"
    }
   ],
   "source": [
    "#Grafico Lineal\n",
    "print(salary.plot(kind = 'line'))\n",
    "print(age.plot(kind = 'line'))"
   ]
  },
  {
   "cell_type": "code",
   "execution_count": 12,
   "id": "1140d063-1524-46d6-ae27-a6c749dd9fb1",
   "metadata": {},
   "outputs": [
    {
     "name": "stdout",
     "output_type": "stream",
     "text": [
      "AxesSubplot(0.125,0.125;0.775x0.755)\n"
     ]
    },
    {
     "data": {
      "image/png": "[encoded data removed]",
      "text/plain": [
       "<Figure size 432x288 with 1 Axes>"
      ]
     },
     "metadata": {
      "needs_background": "light"
     },
     "output_type": "display_data"
    }
   ],
   "source": [
    "#Grafico de dispersiçon\n",
    "print(sub_data.plot(x ='Edad', y='Salario', kind = 'scatter'))"
   ]
  },
  {
   "cell_type": "code",
   "execution_count": 13,
   "id": "3c2c0732-5425-4b38-91b2-2187e7455c0a",
   "metadata": {},
   "outputs": [
    {
     "name": "stdout",
     "output_type": "stream",
     "text": [
      "AxesSubplot(0.125,0.125;0.775x0.755)\n"
     ]
    },
    {
     "data": {
      "image/png": "[encoded data removed]",
      "text/plain": [
       "<Figure size 432x288 with 1 Axes>"
      ]
     },
     "metadata": {
      "needs_background": "light"
     },
     "output_type": "display_data"
    }
   ],
   "source": [
    "#Grafico de caja y bigotes\n",
    "print(sub_data.plot.box())"
   ]
  },
  {
   "cell_type": "code",
   "execution_count": 45,
   "id": "2a786aad-175b-4126-9996-cef9b4380352",
   "metadata": {},
   "outputs": [
    {
     "name": "stdout",
     "output_type": "stream",
     "text": [
      "AxesSubplot(0.125,0.125;0.227941x0.755)\n",
      "AxesSubplot(0.398529,0.125;0.227941x0.755)\n",
      "AxesSubplot(0.672059,0.125;0.227941x0.755)\n"
     ]
    },
    {
     "data": {
      "image/png": "[encoded data removed]",
      "text/plain": [
       "<Figure size 432x288 with 3 Axes>"
      ]
     },
     "metadata": {
      "needs_background": "light"
     },
     "output_type": "display_data"
    }
   ],
   "source": [
    "#subplot\n",
    "figure, axes = plt.subplots(1, 3)\n",
    "\n",
    "g1 = sub_data.plot(ax=axes[0], kind = \"bar\")\n",
    "\n",
    "g2 = sub_data.plot(ax=axes[1], kind = \"barh\")\n",
    "\n",
    "g3 = sub_data.plot(ax=axes[2], kind = \"line\")\n",
    "\n",
    "print(g1)\n",
    "print(g2)\n",
    "print(g3)"
   ]
  }
 ],
 "metadata": {
  "kernelspec": {
   "display_name": "Python 3 (ipykernel)",
   "language": "python",
   "name": "python3"
  },
  "language_info": {
   "codemirror_mode": {
    "name": "ipython",
    "version": 3
   },
   "file_extension": ".py",
   "mimetype": "text/x-python",
   "name": "python",
   "nbconvert_exporter": "python",
   "pygments_lexer": "ipython3",
   "version": "3.8.10"
  }
 },
 "nbformat": 4,
 "nbformat_minor": 5
}
